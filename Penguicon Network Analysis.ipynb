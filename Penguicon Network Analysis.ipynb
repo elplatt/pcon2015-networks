{
 "metadata": {
  "name": ""
 },
 "nbformat": 3,
 "nbformat_minor": 0,
 "worksheets": [
  {
   "cells": [
    {
     "cell_type": "code",
     "collapsed": false,
     "input": [
      "from pprint import pprint\n",
      "import networkx as nx\n",
      "import networkx.algorithms as nxalg\n",
      "import schedule"
     ],
     "language": "python",
     "metadata": {},
     "outputs": [],
     "prompt_number": 60
    },
    {
     "cell_type": "code",
     "collapsed": false,
     "input": [
      "schedule_filename = \"data/schedule_raw.csv\"\n",
      "presenters_filename = \"output/presenter.gexf\"\n",
      "panels_filename = \"output/panel.gexf\""
     ],
     "language": "python",
     "metadata": {},
     "outputs": [],
     "prompt_number": 78
    },
    {
     "cell_type": "code",
     "collapsed": false,
     "input": [
      "node_data = schedule.find_nodes(schedule_data)\n",
      "edge_data = schedule.find_edges(schedule_data)"
     ],
     "language": "python",
     "metadata": {},
     "outputs": [],
     "prompt_number": 96
    },
    {
     "cell_type": "code",
     "collapsed": false,
     "input": [
      "panel_nodes = [label for label, nid, ntype in node_data if ntype == 'panel']\n",
      "presenter_nodes = [label for label, nid, ntype in node_data if ntype == 'presenter']"
     ],
     "language": "python",
     "metadata": {},
     "outputs": [],
     "prompt_number": 97
    },
    {
     "cell_type": "code",
     "collapsed": false,
     "input": [
      "G = nx.Graph()\n",
      "#G.add_nodes_from(panel_nodes)\n",
      "#G.add_nodes_from(presenter_nodes)"
     ],
     "language": "python",
     "metadata": {},
     "outputs": [],
     "prompt_number": 122
    },
    {
     "cell_type": "code",
     "collapsed": false,
     "input": [
      "G.add_edges_from([(source, target) for source, target, etype in edge_data])"
     ],
     "language": "python",
     "metadata": {},
     "outputs": [],
     "prompt_number": 123
    },
    {
     "cell_type": "code",
     "collapsed": false,
     "input": [
      "pprint(G.neighbors('Ed Platt'))"
     ],
     "language": "python",
     "metadata": {},
     "outputs": [
      {
       "output_type": "stream",
       "stream": "stdout",
       "text": [
        "['Leading FLOSS Projects',\n",
        " 'Social Network Analysis: NetworkX and Gephi',\n",
        " 'Community Organizing Tech Roundtable',\n",
        " 'Communication for Geeks']\n"
       ]
      }
     ],
     "prompt_number": 127
    },
    {
     "cell_type": "code",
     "collapsed": false,
     "input": [
      "G.neighbors('Opening Ceremonies')"
     ],
     "language": "python",
     "metadata": {},
     "outputs": [
      {
       "metadata": {},
       "output_type": "pyout",
       "prompt_number": 126,
       "text": [
        "['Janet Gocay',\n",
        " 'Albert Manero',\n",
        " 'Nuri Gocay',\n",
        " 'Cylithria Dubois',\n",
        " 'Ivan Owen',\n",
        " 'Scott Kennedy',\n",
        " 'Jen Owen',\n",
        " 'Charlie Jane Anders',\n",
        " 'Amanda Long-Adams',\n",
        " 'Annalee Newitz',\n",
        " 'Aral Balkan',\n",
        " 'Lucy Kennedy',\n",
        " 'Christine Bender',\n",
        " 'Amanda Robinson']"
       ]
      }
     ],
     "prompt_number": 126
    },
    {
     "cell_type": "code",
     "collapsed": false,
     "input": [
      "presenters = nxalg.bipartite.weighted_projected_graph(G, presenter_nodes)"
     ],
     "language": "python",
     "metadata": {},
     "outputs": [],
     "prompt_number": 125
    },
    {
     "cell_type": "code",
     "collapsed": false,
     "input": [],
     "language": "python",
     "metadata": {},
     "outputs": []
    }
   ],
   "metadata": {}
  }
 ]
}